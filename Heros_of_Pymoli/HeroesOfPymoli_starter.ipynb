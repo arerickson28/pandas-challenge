{
 "cells": [
  {
   "cell_type": "markdown",
   "metadata": {},
   "source": [
    "### Note\n",
    "* Instructions have been included for each segment. You do not have to follow them exactly, but they are included to help you think through the steps."
   ]
  },
  {
   "cell_type": "code",
   "execution_count": null,
   "metadata": {},
   "outputs": [],
   "source": [
    "# Dependencies and Setup\n",
    "import pandas as pd\n",
    "\n",
    "# File to Load (Remember to Change These)\n",
    "file_to_load = \"Resources/purchase_data.csv\"\n",
    "\n",
    "# Read Purchasing File and store into Pandas data frame\n",
    "purchase_data = pd.read_csv(file_to_load)"
   ]
  },
  {
   "cell_type": "markdown",
   "metadata": {},
   "source": [
    "## Player Count"
   ]
  },
  {
   "cell_type": "markdown",
   "metadata": {},
   "source": [
    "* Display the total number of players\n"
   ]
  },
  {
   "cell_type": "code",
   "execution_count": null,
   "metadata": {},
   "outputs": [],
   "source": []
  },
  {
   "cell_type": "markdown",
   "metadata": {},
   "source": [
    "## Purchasing Analysis (Total)"
   ]
  },
  {
   "cell_type": "markdown",
   "metadata": {},
   "source": [
    "* Run basic calculations to obtain number of unique items, average price, etc.\n",
    "\n",
    "\n",
    "* Create a summary data frame to hold the results\n",
    "\n",
    "\n",
    "* Optional: give the displayed data cleaner formatting\n",
    "\n",
    "\n",
    "* Display the summary data frame\n"
   ]
  },
  {
   "cell_type": "code",
   "execution_count": null,
   "metadata": {
    "scrolled": true
   },
   "outputs": [],
   "source": []
  },
  {
   "cell_type": "markdown",
   "metadata": {},
   "source": [
    "## Gender Demographics"
   ]
  },
  {
   "cell_type": "markdown",
   "metadata": {},
   "source": [
    "* Percentage and Count of Male Players\n",
    "\n",
    "\n",
    "* Percentage and Count of Female Players\n",
    "\n",
    "\n",
    "* Percentage and Count of Other / Non-Disclosed\n",
    "\n",
    "\n"
   ]
  },
  {
   "cell_type": "code",
   "execution_count": null,
   "metadata": {},
   "outputs": [],
   "source": []
  },
  {
   "cell_type": "markdown",
   "metadata": {},
   "source": [
    "\n",
    "## Purchasing Analysis (Gender)"
   ]
  },
  {
   "cell_type": "markdown",
   "metadata": {},
   "source": [
    "* Run basic calculations to obtain purchase count, avg. purchase price, avg. purchase total per person etc. by gender\n",
    "\n",
    "\n",
    "\n",
    "\n",
    "* Create a summary data frame to hold the results\n",
    "\n",
    "\n",
    "* Optional: give the displayed data cleaner formatting\n",
    "\n",
    "\n",
    "* Display the summary data frame"
   ]
  },
  {
   "cell_type": "code",
   "execution_count": null,
   "metadata": {},
   "outputs": [],
   "source": []
  },
  {
   "cell_type": "markdown",
   "metadata": {},
   "source": [
    "## Age Demographics"
   ]
  },
  {
   "cell_type": "markdown",
   "metadata": {},
   "source": [
    "* Establish bins for ages\n",
    "\n",
    "\n",
    "* Categorize the existing players using the age bins. Hint: use pd.cut()\n",
    "\n",
    "\n",
    "* Calculate the numbers and percentages by age group\n",
    "\n",
    "\n",
    "* Create a summary data frame to hold the results\n",
    "\n",
    "\n",
    "* Optional: round the percentage column to two decimal points\n",
    "\n",
    "\n",
    "* Display Age Demographics Table\n"
   ]
  },
  {
   "cell_type": "code",
   "execution_count": null,
   "metadata": {},
   "outputs": [],
   "source": [
    "import pandas as pd\n",
    "import csv\n",
    "import numpy as np\n",
    "\n",
    "file_to_load = \"Resources/purchase_data.csv\"\n",
    "\n",
    "purchase_data_df = pd.read_csv(file_to_load)"
   ]
  },
  {
   "cell_type": "code",
   "execution_count": null,
   "metadata": {},
   "outputs": [],
   "source": [
    "age_demo_df = purchase_data_df[[\"Age\", \"SN\"]].drop_duplicates(keep='last')\n",
    "age_demo_df"
   ]
  },
  {
   "cell_type": "code",
   "execution_count": null,
   "metadata": {},
   "outputs": [],
   "source": [
    "player_age_df = pd.DataFrame(age_demo_df[\"Age\"].value_counts())\n",
    "player_age_df"
   ]
  },
  {
   "cell_type": "code",
   "execution_count": null,
   "metadata": {},
   "outputs": [],
   "source": [
    "player_age_df = player_age_df.reset_index(drop=False)\n",
    "player_age_df = player_age_df.rename(columns={\"index\": \"Age\", \"Age\" : \"Total Count\"})\n",
    "player_age_df"
   ]
  },
  {
   "cell_type": "code",
   "execution_count": null,
   "metadata": {},
   "outputs": [],
   "source": [
    "bins = [0, 9, 14, 19, 24, 29, 34, 39, 100]\n",
    "age_groups = [\" <10\", \"10-14\", \"15-19\", \"20-24\", \"25-29\", \"30-34\", \"35-39\", \"40+\"]\n",
    "\n",
    "player_age_df[\"Age Category\"] = pd.DataFrame(pd.cut(player_age_df[\"Age\"], bins, labels= age_groups, include_lowest=True))\n",
    "player_age_df"
   ]
  },
  {
   "cell_type": "code",
   "execution_count": null,
   "metadata": {},
   "outputs": [],
   "source": [
    "player_age_group = player_age_df.groupby([\"Age Category\"])\n",
    "player_age_group"
   ]
  },
  {
   "cell_type": "code",
   "execution_count": null,
   "metadata": {},
   "outputs": [],
   "source": [
    "player_age_group_df = pd.DataFrame(player_age_group[\"Total Count\"].sum())\n",
    "player_age_group_df"
   ]
  },
  {
   "cell_type": "code",
   "execution_count": null,
   "metadata": {},
   "outputs": [],
   "source": [
    "number_of_players = len(purchase_data_df[\"SN\"].unique())\n",
    "number_of_players"
   ]
  },
  {
   "cell_type": "code",
   "execution_count": null,
   "metadata": {},
   "outputs": [],
   "source": [
    "player_age_group_df[\"Percentage of Players\"] = ((player_age_group_df[\"Total Count\"] / number_of_players) * 100).map(\"{:.2f}%\".format)\n",
    "player_age_group_df"
   ]
  },
  {
   "cell_type": "code",
   "execution_count": null,
   "metadata": {},
   "outputs": [],
   "source": []
  },
  {
   "cell_type": "markdown",
   "metadata": {},
   "source": [
    "## Purchasing Analysis (Age)"
   ]
  },
  {
   "cell_type": "markdown",
   "metadata": {},
   "source": [
    "* Bin the purchase_data data frame by age\n",
    "\n",
    "\n",
    "* Run basic calculations to obtain purchase count, avg. purchase price, avg. purchase total per person etc. in the table below\n",
    "\n",
    "\n",
    "* Create a summary data frame to hold the results\n",
    "\n",
    "\n",
    "* Optional: give the displayed data cleaner formatting\n",
    "\n",
    "\n",
    "* Display the summary data frame"
   ]
  },
  {
   "cell_type": "code",
   "execution_count": null,
   "metadata": {},
   "outputs": [],
   "source": [
    "purchasing_analysis_age_df = purchase_data_df[[\"Age\", \"SN\", \"Price\"]]\n",
    "purchasing_analysis_age_df"
   ]
  },
  {
   "cell_type": "code",
   "execution_count": null,
   "metadata": {},
   "outputs": [],
   "source": [
    "purchase_count_df = pd.DataFrame(purchasing_analysis_age_df[\"Age\"].value_counts())\n",
    "purchase_count_df"
   ]
  },
  {
   "cell_type": "code",
   "execution_count": null,
   "metadata": {},
   "outputs": [],
   "source": [
    "purchase_count_df = purchase_count_df.reset_index(drop=False)\n",
    "purchase_count_df"
   ]
  },
  {
   "cell_type": "code",
   "execution_count": null,
   "metadata": {},
   "outputs": [],
   "source": [
    "purchase_count_df = purchase_count_df.rename(columns={\"Age\":\"Purchase Count\", \"index\":\"Age\"})\n",
    "purchase_count_df"
   ]
  },
  {
   "cell_type": "code",
   "execution_count": null,
   "metadata": {},
   "outputs": [],
   "source": [
    "purchase_count_df[\"Age Category\"] = pd.DataFrame(pd.cut(purchase_count_df[\"Age\"], bins, labels= age_groups, include_lowest=True))\n",
    "purchase_count_df"
   ]
  },
  {
   "cell_type": "code",
   "execution_count": null,
   "metadata": {},
   "outputs": [],
   "source": [
    "purchase_count_group = purchase_count_df.groupby([\"Age Category\"])\n",
    "purchase_count_group_df = pd.DataFrame(purchase_count_group[\"Purchase Count\"].sum())\n",
    "purchase_count_group_df                                    "
   ]
  },
  {
   "cell_type": "code",
   "execution_count": null,
   "metadata": {},
   "outputs": [],
   "source": [
    "average_purchase_price_df = purchasing_analysis_age_df[[\"Age\", \"Price\"]]\n",
    "average_purchase_price_df"
   ]
  },
  {
   "cell_type": "code",
   "execution_count": null,
   "metadata": {},
   "outputs": [],
   "source": [
    "average_purchase_price_df[\"Age Category\"] = pd.DataFrame(pd.cut(average_purchase_price_df[\"Age\"], bins, labels= age_groups, include_lowest=True))\n",
    "average_purchase_price_df"
   ]
  },
  {
   "cell_type": "code",
   "execution_count": null,
   "metadata": {},
   "outputs": [],
   "source": [
    "average_purchase_price_group = average_purchase_price_df.groupby([\"Age Category\"])\n",
    "average_purchase_price_group_df = pd.DataFrame(average_purchase_price_group[\"Price\"].mean())\n",
    "average_purchase_price_group_df"
   ]
  },
  {
   "cell_type": "code",
   "execution_count": null,
   "metadata": {},
   "outputs": [],
   "source": [
    "purchasing_analysis_age_df"
   ]
  },
  {
   "cell_type": "code",
   "execution_count": null,
   "metadata": {},
   "outputs": [],
   "source": [
    "total_purhcase_value_group = purchasing_analysis_age_df.groupby([\"Age\"])\n",
    "total_purchase_value_group_df = pd.DataFrame(total_purhcase_value_group[\"Price\"].sum())\n",
    "total_purchase_value_group_df"
   ]
  },
  {
   "cell_type": "code",
   "execution_count": null,
   "metadata": {},
   "outputs": [],
   "source": [
    "total_purchase_value_group_df = total_purchase_value_group_df.reset_index(drop=False)\n",
    "total_purchase_value_group_df"
   ]
  },
  {
   "cell_type": "code",
   "execution_count": null,
   "metadata": {},
   "outputs": [],
   "source": [
    "total_purchase_value_group_df[\"Age Category\"] = pd.DataFrame(pd.cut(total_purchase_value_group_df[\"Age\"], bins, labels= age_groups, include_lowest=True))\n",
    "total_purchase_value_group_df"
   ]
  },
  {
   "cell_type": "code",
   "execution_count": null,
   "metadata": {},
   "outputs": [],
   "source": [
    "total_purchase_value_group2 = total_purchase_value_group_df.groupby([\"Age Category\"])\n",
    "total_purchase_value_group2_df = pd.DataFrame(total_purchase_value_group2[\"Price\"].sum())\n",
    "total_purchase_value_group2_df"
   ]
  },
  {
   "cell_type": "code",
   "execution_count": null,
   "metadata": {},
   "outputs": [],
   "source": [
    "average_purchase_total_per_person_group = purchasing_analysis_age_df.groupby([\"SN\"])\n",
    "average_purchase_total_per_person_group_df = pd.DataFrame(average_purchase_total_per_person_group[\"Price\"].sum())\n",
    "average_purchase_total_per_person_group_df"
   ]
  },
  {
   "cell_type": "code",
   "execution_count": null,
   "metadata": {},
   "outputs": [],
   "source": [
    "average_purchase_total_per_person_group_df = average_purchase_total_per_person_group_df.reset_index(drop=False)\n",
    "average_purchase_total_per_person_group_df"
   ]
  },
  {
   "cell_type": "code",
   "execution_count": null,
   "metadata": {},
   "outputs": [],
   "source": [
    "player_age_df = purchase_data_df[[\"SN\", \"Age\"]]\n",
    "player_age_df"
   ]
  },
  {
   "cell_type": "code",
   "execution_count": null,
   "metadata": {},
   "outputs": [],
   "source": [
    "player_age_df = player_age_df.drop_duplicates(keep='last')\n",
    "player_age_df"
   ]
  },
  {
   "cell_type": "code",
   "execution_count": null,
   "metadata": {},
   "outputs": [],
   "source": [
    "merged_df = pd.merge(average_purchase_total_per_person_group_df, player_age_df, on = \"SN\")\n",
    "merged_df"
   ]
  },
  {
   "cell_type": "code",
   "execution_count": null,
   "metadata": {},
   "outputs": [],
   "source": [
    "merged_df[\"Age Category\"] = pd.DataFrame(pd.cut(merged_df[\"Age\"], bins, labels= age_groups, include_lowest=True))\n",
    "merged_df"
   ]
  },
  {
   "cell_type": "code",
   "execution_count": null,
   "metadata": {},
   "outputs": [],
   "source": [
    "merged_group = merged_df.groupby([\"Age Category\"])\n",
    "merged_group_df = pd.DataFrame(merged_group[\"Price\"].mean())\n",
    "merged_group_df"
   ]
  },
  {
   "cell_type": "code",
   "execution_count": null,
   "metadata": {},
   "outputs": [],
   "source": [
    "purchase_analysis_merge1 = pd.merge(purchase_count_group_df, average_purchase_price_group_df, on = \"Age Category\")\n",
    "purchase_analysis_merge1 "
   ]
  },
  {
   "cell_type": "code",
   "execution_count": null,
   "metadata": {},
   "outputs": [],
   "source": [
    "purchase_analysis_merge2 = pd.merge(total_purchase_value_group2_df, merged_group_df, on = \"Age Category\")\n",
    "purchase_analysis_merge2 "
   ]
  },
  {
   "cell_type": "code",
   "execution_count": null,
   "metadata": {},
   "outputs": [],
   "source": [
    "final_merge = pd.merge(purchase_analysis_merge1, purchase_analysis_merge2, on = \"Age Category\" )  \n",
    "final_merge"
   ]
  },
  {
   "cell_type": "code",
   "execution_count": null,
   "metadata": {},
   "outputs": [],
   "source": [
    "final_merge = final_merge.rename(columns = {\"Price_x\" : \"Total Purchase Value\", \"Price_y\": \"Average Total Purchase per Person\", \"Price\": \"Average Purchase Price\"})\n",
    "final_merge"
   ]
  },
  {
   "cell_type": "code",
   "execution_count": null,
   "metadata": {},
   "outputs": [],
   "source": [
    "# final_merge[\"Average Purchase Price\"]= final_merge.loc[:,\"Average Purchase Price\"].astype(float)\n",
    "# final_merge[\"Total Purchase Price\"] = final_merge.loc[:,\"Total Purchase Value\"].astype(float)"
   ]
  },
  {
   "cell_type": "code",
   "execution_count": null,
   "metadata": {},
   "outputs": [],
   "source": [
    "final_merge"
   ]
  },
  {
   "cell_type": "code",
   "execution_count": null,
   "metadata": {},
   "outputs": [],
   "source": [
    "final_merge.dtypes"
   ]
  },
  {
   "cell_type": "code",
   "execution_count": null,
   "metadata": {},
   "outputs": [],
   "source": [
    "final_merge[\"Average Purchase Price\"] = final_merge[\"Average Purchase Price\"].map(\"${:,.2f}\".format)\n",
    "final_merge[\"Total Purchase Value\"] = final_merge[\"Total Purchase Value\"].map(\"${:,.2f}\".format)\n",
    "final_merge[\"Average Total Purchase per Person\"] = final_merge[\"Average Total Purchase per Person\"].map(\"${:,.2f}\".format)\n",
    "final_merge"
   ]
  },
  {
   "cell_type": "markdown",
   "metadata": {},
   "source": [
    "## Top Spenders"
   ]
  },
  {
   "cell_type": "markdown",
   "metadata": {},
   "source": [
    "* Run basic calculations to obtain the results in the table below\n",
    "\n",
    "\n",
    "* Create a summary data frame to hold the results\n",
    "\n",
    "\n",
    "* Sort the total purchase value column in descending order\n",
    "\n",
    "\n",
    "* Optional: give the displayed data cleaner formatting\n",
    "\n",
    "\n",
    "* Display a preview of the summary data frame\n",
    "\n"
   ]
  },
  {
   "cell_type": "code",
   "execution_count": null,
   "metadata": {},
   "outputs": [],
   "source": [
    "top_spenders_df = purchase_data_df[[\"SN\", \"Price\"]]\n",
    "top_spenders_df"
   ]
  },
  {
   "cell_type": "code",
   "execution_count": null,
   "metadata": {},
   "outputs": [],
   "source": [
    "top_spender_players_group = top_spenders_df.groupby([\"SN\"])\n",
    "top_spender_players_group_total_df = pd.DataFrame(top_spender_players_group[\"Price\"].sum() )\n",
    "top_spender_players_group_total_df"
   ]
  },
  {
   "cell_type": "code",
   "execution_count": null,
   "metadata": {},
   "outputs": [],
   "source": [
    "top_spender_players_group_avg_df = pd.DataFrame(top_spender_players_group[\"Price\"].mean() )\n",
    "top_spender_players_group_avg_df"
   ]
  },
  {
   "cell_type": "code",
   "execution_count": null,
   "metadata": {},
   "outputs": [],
   "source": [
    "top_spender_players_group_count_df = pd.DataFrame(top_spender_players_group[\"Price\"].count())\n",
    "top_spender_players_group_count_df"
   ]
  },
  {
   "cell_type": "code",
   "execution_count": null,
   "metadata": {},
   "outputs": [],
   "source": [
    "spender_merge1 = pd.merge(top_spender_players_group_count_df, top_spender_players_group_avg_df, on = \"SN\")\n",
    "spender_merge1"
   ]
  },
  {
   "cell_type": "code",
   "execution_count": null,
   "metadata": {},
   "outputs": [],
   "source": [
    "spender_merge2 = pd.merge(spender_merge1, top_spender_players_group_total_df, on = \"SN\" )\n",
    "spender_merge2"
   ]
  },
  {
   "cell_type": "code",
   "execution_count": null,
   "metadata": {},
   "outputs": [],
   "source": [
    "spender_merge2 = spender_merge2.sort_values(\"Price\" ,ascending=False)\n",
    "spender_merge2"
   ]
  },
  {
   "cell_type": "code",
   "execution_count": null,
   "metadata": {},
   "outputs": [],
   "source": [
    "spenders_summary_df = spender_merge2.head()\n",
    "spenders_summary_df"
   ]
  },
  {
   "cell_type": "code",
   "execution_count": null,
   "metadata": {},
   "outputs": [],
   "source": [
    "spenders_summary_df = spenders_summary_df.rename(columns ={\"Price_x\" : \"Purchase Count\", \"Price_y\": \"Average Purchase Price\", \"Price\": \"Total Purchase Value\"})\n",
    "spenders_summary_df"
   ]
  },
  {
   "cell_type": "code",
   "execution_count": null,
   "metadata": {},
   "outputs": [],
   "source": [
    "spenders_summary_df[\"Average Purchase Price\"] = spenders_summary_df[\"Average Purchase Price\"].map(\"${:,.2f}\".format)\n",
    "spenders_summary_df[\"Total Purchase Value\"] = spenders_summary_df[\"Total Purchase Value\"].map(\"${:,.2f}\".format)\n",
    "spenders_summary_df"
   ]
  },
  {
   "cell_type": "markdown",
   "metadata": {},
   "source": [
    "## Most Popular Items"
   ]
  },
  {
   "cell_type": "markdown",
   "metadata": {},
   "source": [
    "* Retrieve the Item ID, Item Name, and Item Price columns\n",
    "\n",
    "\n",
    "* Group by Item ID and Item Name. Perform calculations to obtain purchase count, item price, and total purchase value\n",
    "\n",
    "\n",
    "* Create a summary data frame to hold the results\n",
    "\n",
    "\n",
    "* Sort the purchase count column in descending order\n",
    "\n",
    "\n",
    "* Optional: give the displayed data cleaner formatting\n",
    "\n",
    "\n",
    "* Display a preview of the summary data frame\n",
    "\n"
   ]
  },
  {
   "cell_type": "code",
   "execution_count": null,
   "metadata": {},
   "outputs": [],
   "source": [
    "purchase_data_df.dtypes"
   ]
  },
  {
   "cell_type": "code",
   "execution_count": null,
   "metadata": {},
   "outputs": [],
   "source": [
    "most_popular_df = purchase_data_df[[\"Item ID\", \"Item Name\", \"Price\"]]\n",
    "most_popular_df"
   ]
  },
  {
   "cell_type": "code",
   "execution_count": null,
   "metadata": {},
   "outputs": [],
   "source": [
    "most_popular_group = most_popular_df.groupby([\"Item Name\"])\n",
    "most_popular_group_df = pd.DataFrame(most_popular_group[\"Item Name\"].count())\n",
    "most_popular_group_df"
   ]
  },
  {
   "cell_type": "code",
   "execution_count": null,
   "metadata": {},
   "outputs": [],
   "source": [
    "most_popular_group_df = most_popular_group_df.rename(columns= {\"Item Name\": \"Purchase Count\"})\n",
    "most_popular_group_df"
   ]
  },
  {
   "cell_type": "code",
   "execution_count": null,
   "metadata": {},
   "outputs": [],
   "source": [
    "most_popular_price_df = most_popular_df[[\"Item ID\",\"Price\"]]\n",
    "most_popular_price_df"
   ]
  },
  {
   "cell_type": "code",
   "execution_count": null,
   "metadata": {},
   "outputs": [],
   "source": [
    "most_popular_price_df = most_popular_price_df.drop_duplicates(keep='last')\n",
    "most_popular_price_df"
   ]
  },
  {
   "cell_type": "code",
   "execution_count": null,
   "metadata": {},
   "outputs": [],
   "source": [
    "most_popular_total_value = most_popular_df[[\"Item ID\",\"Price\"]]\n",
    "most_popular_total_value"
   ]
  },
  {
   "cell_type": "code",
   "execution_count": null,
   "metadata": {},
   "outputs": [],
   "source": [
    "most_popular_total_value_group = most_popular_total_value.groupby(\"Item ID\")\n",
    "most_popular_total_value_group_df = pd.DataFrame(most_popular_total_value_group[\"Price\"].sum())\n",
    "most_popular_total_value_group_df"
   ]
  },
  {
   "cell_type": "code",
   "execution_count": null,
   "metadata": {},
   "outputs": [],
   "source": [
    "item_names_df = most_popular_df[[\"Item ID\", \"Item Name\"]].drop_duplicates(keep='last')\n",
    "item_names_df"
   ]
  },
  {
   "cell_type": "code",
   "execution_count": null,
   "metadata": {},
   "outputs": [],
   "source": [
    "# most_popular_group_df = most_popular_group_df.reset"
   ]
  },
  {
   "cell_type": "code",
   "execution_count": null,
   "metadata": {},
   "outputs": [],
   "source": [
    " most_popular_price_df.loc[most_popular_price_df[\"Item ID\"]==92]"
   ]
  },
  {
   "cell_type": "code",
   "execution_count": null,
   "metadata": {},
   "outputs": [],
   "source": [
    "average_duplicate_items_group = most_popular_price_df.groupby([\"Item ID\"])\n",
    "average_duplicate_items_group_df = pd.DataFrame(average_duplicate_items_group[\"Price\"].mean())\n",
    "average_duplicate_items_group_df"
   ]
  },
  {
   "cell_type": "code",
   "execution_count": null,
   "metadata": {},
   "outputs": [],
   "source": [
    "most_popular_summary_merge1 = pd.merge(most_popular_group_df, item_names_df, on = \"Item Name\")\n",
    "most_popular_summary_merge1"
   ]
  },
  {
   "cell_type": "code",
   "execution_count": null,
   "metadata": {},
   "outputs": [],
   "source": [
    "most_popular_summary_merge2 = pd.merge(average_duplicate_items_group_df, most_popular_total_value_group_df, on = \"Item ID\")\n",
    "most_popular_summary_merge2"
   ]
  },
  {
   "cell_type": "code",
   "execution_count": null,
   "metadata": {},
   "outputs": [],
   "source": [
    "most_popular_summary_merge3 = pd.merge(most_popular_summary_merge1, most_popular_summary_merge2, on = \"Item ID\")\n",
    "most_popular_summary_merge3"
   ]
  },
  {
   "cell_type": "code",
   "execution_count": null,
   "metadata": {},
   "outputs": [],
   "source": [
    "most_popular_summary_merge3 = most_popular_summary_merge3.set_index(\"Item ID\",\"Item Name\")\n",
    "most_popular_summary_merge3"
   ]
  },
  {
   "cell_type": "code",
   "execution_count": null,
   "metadata": {},
   "outputs": [],
   "source": [
    "most_popular_summary_merge3 = most_popular_summary_merge3.rename(columns= {\"Price_x\": \"Item Price\", \"Price_y\":\"Total Purchase Value\"})\n",
    "most_popular_summary_merge3"
   ]
  },
  {
   "cell_type": "code",
   "execution_count": null,
   "metadata": {},
   "outputs": [],
   "source": [
    "most_popular_summary_merge3 = most_popular_summary_merge3.sort_values(\"Purchase Count\" ,ascending=False)\n",
    "most_popular_summary_merge3"
   ]
  },
  {
   "cell_type": "code",
   "execution_count": null,
   "metadata": {},
   "outputs": [],
   "source": [
    "most_popular_summary_head = most_popular_summary_merge3.head()\n",
    "most_popular_summary_head"
   ]
  },
  {
   "cell_type": "code",
   "execution_count": null,
   "metadata": {},
   "outputs": [],
   "source": [
    "most_popular_summary_head[\"Item Price\"] = most_popular_summary_head[\"Item Price\"].map(\"${:,.2f}\".format)\n",
    "most_popular_summary_head"
   ]
  },
  {
   "cell_type": "code",
   "execution_count": null,
   "metadata": {},
   "outputs": [],
   "source": [
    "most_popular_summary_head[\"Total Purchase Value\"] = most_popular_summary_head[\"Total Purchase Value\"].map(\"${:,.2f}\".format)\n",
    "most_popular_summary_head"
   ]
  },
  {
   "cell_type": "markdown",
   "metadata": {},
   "source": [
    "## Most Profitable Items"
   ]
  },
  {
   "cell_type": "markdown",
   "metadata": {},
   "source": [
    "* Sort the above table by total purchase value in descending order\n",
    "\n",
    "\n",
    "* Optional: give the displayed data cleaner formatting\n",
    "\n",
    "\n",
    "* Display a preview of the data frame\n",
    "\n"
   ]
  },
  {
   "cell_type": "code",
   "execution_count": null,
   "metadata": {
    "scrolled": true
   },
   "outputs": [],
   "source": [
    "most_popular_summary_most_profitable = most_popular_summary_merge3.sort_values(\"Total Purchase Value\" ,ascending=False)\n",
    "most_popular_summary_most_profitable"
   ]
  },
  {
   "cell_type": "code",
   "execution_count": null,
   "metadata": {},
   "outputs": [],
   "source": [
    "most_popular_summary_most_profitable_head = most_popular_summary_most_profitable.head()\n",
    "most_popular_summary_most_profitable_head "
   ]
  },
  {
   "cell_type": "code",
   "execution_count": null,
   "metadata": {},
   "outputs": [],
   "source": [
    "most_popular_summary_most_profitable_head[\"Item Price\"] = most_popular_summary_most_profitable_head[\"Item Price\"].map(\"${:,.2f}\".format)\n",
    "most_popular_summary_most_profitable_head"
   ]
  },
  {
   "cell_type": "code",
   "execution_count": null,
   "metadata": {},
   "outputs": [],
   "source": [
    "most_popular_summary_most_profitable_head[\"Total Purchase Value\"] = most_popular_summary_most_profitable_head[\"Total Purchase Value\"].map(\"${:,.2f}\".format)\n",
    "\n"
   ]
  },
  {
   "cell_type": "code",
   "execution_count": null,
   "metadata": {},
   "outputs": [],
   "source": [
    "most_popular_summary_most_profitable_head"
   ]
  },
  {
   "cell_type": "code",
   "execution_count": null,
   "metadata": {},
   "outputs": [],
   "source": []
  }
 ],
 "metadata": {
  "anaconda-cloud": {},
  "kernel_info": {
   "name": "python3"
  },
  "kernelspec": {
   "display_name": "Python 3",
   "language": "python",
   "name": "python3"
  },
  "language_info": {
   "codemirror_mode": {
    "name": "ipython",
    "version": 3
   },
   "file_extension": ".py",
   "mimetype": "text/x-python",
   "name": "python",
   "nbconvert_exporter": "python",
   "pygments_lexer": "ipython3",
   "version": "3.6.10"
  },
  "latex_envs": {
   "LaTeX_envs_menu_present": true,
   "autoclose": false,
   "autocomplete": true,
   "bibliofile": "biblio.bib",
   "cite_by": "apalike",
   "current_citInitial": 1,
   "eqLabelWithNumbers": true,
   "eqNumInitial": 1,
   "hotkeys": {
    "equation": "Ctrl-E",
    "itemize": "Ctrl-I"
   },
   "labels_anchors": false,
   "latex_user_defs": false,
   "report_style_numbering": false,
   "user_envs_cfg": false
  },
  "nteract": {
   "version": "0.2.0"
  }
 },
 "nbformat": 4,
 "nbformat_minor": 2
}
