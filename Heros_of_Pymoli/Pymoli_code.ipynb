{
 "cells": [
  {
   "cell_type": "markdown",
   "metadata": {},
   "source": [
    "# Heros of Pymoli Code"
   ]
  },
  {
   "cell_type": "code",
   "execution_count": 1,
   "metadata": {},
   "outputs": [],
   "source": [
    "#Import Dependencies\n",
    "import pandas as pd\n",
    "import csv\n",
    "import numpy as np\n",
    "\n",
    "file_to_load = \"Resources/purchase_data.csv\"\n",
    "purchase_data_df = pd.read_csv(file_to_load)"
   ]
  },
  {
   "cell_type": "code",
   "execution_count": 2,
   "metadata": {
    "scrolled": true
   },
   "outputs": [
    {
     "data": {
      "text/html": [
       "<div>\n",
       "<style scoped>\n",
       "    .dataframe tbody tr th:only-of-type {\n",
       "        vertical-align: middle;\n",
       "    }\n",
       "\n",
       "    .dataframe tbody tr th {\n",
       "        vertical-align: top;\n",
       "    }\n",
       "\n",
       "    .dataframe thead th {\n",
       "        text-align: right;\n",
       "    }\n",
       "</style>\n",
       "<table border=\"1\" class=\"dataframe\">\n",
       "  <thead>\n",
       "    <tr style=\"text-align: right;\">\n",
       "      <th></th>\n",
       "      <th>Purchase ID</th>\n",
       "      <th>SN</th>\n",
       "      <th>Age</th>\n",
       "      <th>Gender</th>\n",
       "      <th>Item ID</th>\n",
       "      <th>Item Name</th>\n",
       "      <th>Price</th>\n",
       "    </tr>\n",
       "  </thead>\n",
       "  <tbody>\n",
       "    <tr>\n",
       "      <th>0</th>\n",
       "      <td>0</td>\n",
       "      <td>Lisim78</td>\n",
       "      <td>20</td>\n",
       "      <td>Male</td>\n",
       "      <td>108</td>\n",
       "      <td>Extraction, Quickblade Of Trembling Hands</td>\n",
       "      <td>3.53</td>\n",
       "    </tr>\n",
       "    <tr>\n",
       "      <th>1</th>\n",
       "      <td>1</td>\n",
       "      <td>Lisovynya38</td>\n",
       "      <td>40</td>\n",
       "      <td>Male</td>\n",
       "      <td>143</td>\n",
       "      <td>Frenzied Scimitar</td>\n",
       "      <td>1.56</td>\n",
       "    </tr>\n",
       "    <tr>\n",
       "      <th>2</th>\n",
       "      <td>2</td>\n",
       "      <td>Ithergue48</td>\n",
       "      <td>24</td>\n",
       "      <td>Male</td>\n",
       "      <td>92</td>\n",
       "      <td>Final Critic</td>\n",
       "      <td>4.88</td>\n",
       "    </tr>\n",
       "    <tr>\n",
       "      <th>3</th>\n",
       "      <td>3</td>\n",
       "      <td>Chamassasya86</td>\n",
       "      <td>24</td>\n",
       "      <td>Male</td>\n",
       "      <td>100</td>\n",
       "      <td>Blindscythe</td>\n",
       "      <td>3.27</td>\n",
       "    </tr>\n",
       "    <tr>\n",
       "      <th>4</th>\n",
       "      <td>4</td>\n",
       "      <td>Iskosia90</td>\n",
       "      <td>23</td>\n",
       "      <td>Male</td>\n",
       "      <td>131</td>\n",
       "      <td>Fury</td>\n",
       "      <td>1.44</td>\n",
       "    </tr>\n",
       "    <tr>\n",
       "      <th>5</th>\n",
       "      <td>5</td>\n",
       "      <td>Yalae81</td>\n",
       "      <td>22</td>\n",
       "      <td>Male</td>\n",
       "      <td>81</td>\n",
       "      <td>Dreamkiss</td>\n",
       "      <td>3.61</td>\n",
       "    </tr>\n",
       "  </tbody>\n",
       "</table>\n",
       "</div>"
      ],
      "text/plain": [
       "   Purchase ID             SN  Age Gender  Item ID  \\\n",
       "0            0        Lisim78   20   Male      108   \n",
       "1            1    Lisovynya38   40   Male      143   \n",
       "2            2     Ithergue48   24   Male       92   \n",
       "3            3  Chamassasya86   24   Male      100   \n",
       "4            4      Iskosia90   23   Male      131   \n",
       "5            5        Yalae81   22   Male       81   \n",
       "\n",
       "                                   Item Name  Price  \n",
       "0  Extraction, Quickblade Of Trembling Hands   3.53  \n",
       "1                          Frenzied Scimitar   1.56  \n",
       "2                               Final Critic   4.88  \n",
       "3                                Blindscythe   3.27  \n",
       "4                                       Fury   1.44  \n",
       "5                                  Dreamkiss   3.61  "
      ]
     },
     "execution_count": 2,
     "metadata": {},
     "output_type": "execute_result"
    }
   ],
   "source": [
    "purchase_data_df.head(6)"
   ]
  },
  {
   "cell_type": "markdown",
   "metadata": {},
   "source": [
    "## Player Count"
   ]
  },
  {
   "cell_type": "code",
   "execution_count": 9,
   "metadata": {},
   "outputs": [
    {
     "data": {
      "text/html": [
       "<div>\n",
       "<style scoped>\n",
       "    .dataframe tbody tr th:only-of-type {\n",
       "        vertical-align: middle;\n",
       "    }\n",
       "\n",
       "    .dataframe tbody tr th {\n",
       "        vertical-align: top;\n",
       "    }\n",
       "\n",
       "    .dataframe thead th {\n",
       "        text-align: right;\n",
       "    }\n",
       "</style>\n",
       "<table border=\"1\" class=\"dataframe\">\n",
       "  <thead>\n",
       "    <tr style=\"text-align: right;\">\n",
       "      <th></th>\n",
       "      <th>Total Players</th>\n",
       "    </tr>\n",
       "  </thead>\n",
       "  <tbody>\n",
       "    <tr>\n",
       "      <th>0</th>\n",
       "      <td>576</td>\n",
       "    </tr>\n",
       "  </tbody>\n",
       "</table>\n",
       "</div>"
      ],
      "text/plain": [
       "   Total Players\n",
       "0            576"
      ]
     },
     "execution_count": 9,
     "metadata": {},
     "output_type": "execute_result"
    }
   ],
   "source": [
    "number_of_players = purchase_data_df[\"SN\"].nunique()\n",
    "number_of_players_df = pd.DataFrame({\"Total Players\": [number_of_players]})\n",
    "number_of_players_df"
   ]
  },
  {
   "cell_type": "markdown",
   "metadata": {},
   "source": [
    "### Purchasing Analysis (Total)"
   ]
  },
  {
   "cell_type": "code",
   "execution_count": 7,
   "metadata": {},
   "outputs": [
    {
     "data": {
      "text/html": [
       "<div>\n",
       "<style scoped>\n",
       "    .dataframe tbody tr th:only-of-type {\n",
       "        vertical-align: middle;\n",
       "    }\n",
       "\n",
       "    .dataframe tbody tr th {\n",
       "        vertical-align: top;\n",
       "    }\n",
       "\n",
       "    .dataframe thead th {\n",
       "        text-align: right;\n",
       "    }\n",
       "</style>\n",
       "<table border=\"1\" class=\"dataframe\">\n",
       "  <thead>\n",
       "    <tr style=\"text-align: right;\">\n",
       "      <th></th>\n",
       "      <th>Number of Unique Items</th>\n",
       "      <th>Average Price</th>\n",
       "      <th>Number of Purchases</th>\n",
       "      <th>Total Revenue</th>\n",
       "    </tr>\n",
       "  </thead>\n",
       "  <tbody>\n",
       "    <tr>\n",
       "      <th>0</th>\n",
       "      <td>179</td>\n",
       "      <td>$3.05</td>\n",
       "      <td>780</td>\n",
       "      <td>$2,379.77</td>\n",
       "    </tr>\n",
       "  </tbody>\n",
       "</table>\n",
       "</div>"
      ],
      "text/plain": [
       "   Number of Unique Items Average Price  Number of Purchases Total Revenue\n",
       "0                     179         $3.05                  780     $2,379.77"
      ]
     },
     "execution_count": 7,
     "metadata": {},
     "output_type": "execute_result"
    }
   ],
   "source": [
    "number_of_items = len(purchase_data_df[\"Item Name\"].unique())\n",
    "\n",
    "\n",
    "average_item_price = purchase_data_df[\"Price\"].mean()\n",
    " \n",
    "\n",
    "number_of_purchases = len(purchase_data_df)\n",
    "\n",
    "\n",
    "total_revenue = purchase_data_df[\"Price\"].sum()\n",
    "\n",
    "\n",
    "purchase_summary_df = pd.DataFrame({\"Number of Unique Items\": [number_of_items],\n",
    "                                   \"Average Price\": [\"${0:,.2f}\".format(average_item_price)],\n",
    "                                   \"Number of Purchases\":[number_of_purchases],\n",
    "                                   \"Total Revenue\": [\"${0:,.2f}\".format(total_revenue)]})\n",
    "purchase_summary_df"
   ]
  },
  {
   "cell_type": "code",
   "execution_count": null,
   "metadata": {},
   "outputs": [],
   "source": []
  },
  {
   "cell_type": "code",
   "execution_count": null,
   "metadata": {},
   "outputs": [],
   "source": [
    "gender_df = purchase_data_df[[\"SN\",\"Gender\"]]\n",
    "gender_df.head()"
   ]
  },
  {
   "cell_type": "code",
   "execution_count": null,
   "metadata": {},
   "outputs": [],
   "source": [
    "unique_gender_df = gender_df.drop_duplicates()\n",
    "unique_gender_df"
   ]
  },
  {
   "cell_type": "code",
   "execution_count": null,
   "metadata": {},
   "outputs": [],
   "source": [
    "players_gender_df = pd.DataFrame(unique_gender_df[\"Gender\"].value_counts())\n",
    "players_gender_df"
   ]
  },
  {
   "cell_type": "code",
   "execution_count": null,
   "metadata": {},
   "outputs": [],
   "source": [
    "players_gender_df[\"Percentage of Players\"] = (players_gender_df[\"Gender\"]/unique_gender_df[\"Gender\"].count()*100)\n",
    "players_gender_df"
   ]
  },
  {
   "cell_type": "code",
   "execution_count": null,
   "metadata": {},
   "outputs": [],
   "source": [
    "players_gender_df = players_gender_df.rename(columns={\"Gender\":\"Total Count\"})\n",
    "players_gender_df"
   ]
  },
  {
   "cell_type": "code",
   "execution_count": null,
   "metadata": {},
   "outputs": [],
   "source": [
    "players_gender_df[\"Percentage of Players\"] = players_gender_df[\"Percentage of Players\"].map(\"{:.2f}%\".format)\n",
    "players_gender_df"
   ]
  },
  {
   "cell_type": "code",
   "execution_count": null,
   "metadata": {},
   "outputs": [],
   "source": [
    "gender_purchases_df = purchase_data_df[[\"SN\",\"Gender\",\"Price\"]]\n",
    "gender_purchases_df"
   ]
  },
  {
   "cell_type": "code",
   "execution_count": null,
   "metadata": {},
   "outputs": [],
   "source": [
    "total_purchase_gender = gender_purchases_df.groupby(\"Gender\")"
   ]
  },
  {
   "cell_type": "code",
   "execution_count": null,
   "metadata": {},
   "outputs": [],
   "source": [
    "total_purchase_gender_df = pd.DataFrame(total_purchase_gender[\"Price\"].sum())\n",
    "total_purchase_gender_df"
   ]
  },
  {
   "cell_type": "code",
   "execution_count": null,
   "metadata": {},
   "outputs": [],
   "source": [
    "total_purchase_count_gender_df = pd.DataFrame(total_purchase_gender[\"Price\"].count())\n",
    "total_purchase_count_gender_df"
   ]
  },
  {
   "cell_type": "code",
   "execution_count": null,
   "metadata": {},
   "outputs": [],
   "source": [
    "average_purchase_price_gender_df = pd.DataFrame(total_purchase_gender[\"Price\"].mean())\n",
    "average_purchase_price_gender_df"
   ]
  },
  {
   "cell_type": "code",
   "execution_count": null,
   "metadata": {},
   "outputs": [],
   "source": []
  },
  {
   "cell_type": "code",
   "execution_count": null,
   "metadata": {},
   "outputs": [],
   "source": [
    "player_purchase = gender_purchases_df.groupby(\"SN\")\n",
    "total_purchase_per_player_df = pd.DataFrame(player_purchase[\"Price\"].sum())\n",
    "total_purchase_per_player_df"
   ]
  },
  {
   "cell_type": "code",
   "execution_count": null,
   "metadata": {},
   "outputs": [],
   "source": [
    "total_purchase_per_player_df = pd.merge(total_purchase_per_player_df,unique_gender_df, on=\"SN\")\n",
    "total_purchase_per_player_df"
   ]
  },
  {
   "cell_type": "code",
   "execution_count": null,
   "metadata": {},
   "outputs": [],
   "source": [
    "total_purchase_per_player_df = total_purchase_per_player_df.drop(columns=\"SN\")\n",
    "total_purchase_per_player_df"
   ]
  },
  {
   "cell_type": "code",
   "execution_count": null,
   "metadata": {},
   "outputs": [],
   "source": [
    "total_purchase_per_player_df = total_purchase_per_player_df.reset_index(drop=False)\n",
    "total_purchase_per_player_df"
   ]
  },
  {
   "cell_type": "code",
   "execution_count": null,
   "metadata": {},
   "outputs": [],
   "source": [
    "average_total_per_gender = total_purchase_per_player_df.groupby(\"Gender\")\n",
    "average_total_per_gender "
   ]
  },
  {
   "cell_type": "code",
   "execution_count": null,
   "metadata": {},
   "outputs": [],
   "source": [
    "average_total_per_gender_df = pd.DataFrame(average_total_per_gender[\"Price\"].mean())\n",
    "average_total_per_gender_df "
   ]
  },
  {
   "cell_type": "code",
   "execution_count": null,
   "metadata": {},
   "outputs": [],
   "source": [
    "average_total_per_gender_df = average_total_per_gender_df.rename(columns={\"Price\":\"Avg Total Purchase per Person\"})\n",
    "average_total_per_gender_df"
   ]
  },
  {
   "cell_type": "code",
   "execution_count": null,
   "metadata": {},
   "outputs": [],
   "source": [
    "average_total_per_gender_df = average_total_per_gender_df.reset_index(drop=False)"
   ]
  },
  {
   "cell_type": "code",
   "execution_count": null,
   "metadata": {},
   "outputs": [],
   "source": [
    "total_purchase_count_gender_df = total_purchase_count_gender_df.reset_index(drop=False)"
   ]
  },
  {
   "cell_type": "code",
   "execution_count": null,
   "metadata": {},
   "outputs": [],
   "source": [
    "average_purchase_price_gender_df = average_purchase_price_gender_df.reset_index(drop=False)"
   ]
  },
  {
   "cell_type": "code",
   "execution_count": null,
   "metadata": {},
   "outputs": [],
   "source": [
    "purchasing_analysis_df1 = pd.merge(total_purchase_count_gender_df, average_purchase_price_gender_df, on=\"Gender\")\n",
    "purchasing_analysis_df1\n"
   ]
  },
  {
   "cell_type": "code",
   "execution_count": null,
   "metadata": {},
   "outputs": [],
   "source": [
    "purchasing_analysis_df2 = pd.merge(total_purchase_gender_df, average_total_per_gender_df, on=\"Gender\" )\n",
    "purchasing_analysis_df2"
   ]
  },
  {
   "cell_type": "code",
   "execution_count": null,
   "metadata": {},
   "outputs": [],
   "source": [
    "purchasing_analysis_3 = pd.merge(purchasing_analysis_df1, purchasing_analysis_df2, on=\"Gender\" )\n",
    "purchasing_analysis_3"
   ]
  },
  {
   "cell_type": "code",
   "execution_count": null,
   "metadata": {},
   "outputs": [],
   "source": [
    "purchasing_analysis_3 = purchasing_analysis_3.rename(columns={\"Price_x\":\"Purchase Count\", \n",
    "                                                             \"Price_y\": \"Average Purchase Price\",\n",
    "                                                             \"Price\": \"Total Purchase Value\"})"
   ]
  },
  {
   "cell_type": "code",
   "execution_count": null,
   "metadata": {},
   "outputs": [],
   "source": [
    "purchasing_analysis_3"
   ]
  },
  {
   "cell_type": "code",
   "execution_count": null,
   "metadata": {},
   "outputs": [],
   "source": [
    "purchasing_analysis_3[\"Average Purchase Price\"] = purchasing_analysis_3[\"Average Purchase Price\"].map(\"${0:,.2f}\".format)"
   ]
  },
  {
   "cell_type": "code",
   "execution_count": null,
   "metadata": {},
   "outputs": [],
   "source": [
    "purchasing_analysis_3[\"Total Purchase Value\"] = purchasing_analysis_3[\"Total Purchase Value\"].map(\"${0:,.2f}\".format)"
   ]
  },
  {
   "cell_type": "code",
   "execution_count": null,
   "metadata": {},
   "outputs": [],
   "source": [
    "purchasing_analysis_3[\"Avg Total Purchase per Person\"] = purchasing_analysis_3[\"Avg Total Purchase per Person\"].map(\"${0:,.2f}\".format)"
   ]
  },
  {
   "cell_type": "code",
   "execution_count": null,
   "metadata": {},
   "outputs": [],
   "source": [
    "purchasing_analysis_3"
   ]
  },
  {
   "cell_type": "markdown",
   "metadata": {},
   "source": [
    "Second Session"
   ]
  },
  {
   "cell_type": "code",
   "execution_count": null,
   "metadata": {},
   "outputs": [],
   "source": [
    "age_demo_df = purchase_data_df[[\"Age\", \"SN\"]].drop_duplicates(keep='last')\n",
    "age_demo_df"
   ]
  },
  {
   "cell_type": "code",
   "execution_count": null,
   "metadata": {},
   "outputs": [],
   "source": [
    "player_age_df = pd.DataFrame(age_demo_df[\"Age\"].value_counts())\n",
    "player_age_df"
   ]
  },
  {
   "cell_type": "code",
   "execution_count": null,
   "metadata": {},
   "outputs": [],
   "source": [
    "player_age_df = player_age_df.reset_index(drop=False)\n",
    "player_age_df = player_age_df.rename(columns={\"index\": \"Age\", \"Age\" : \"Total Count\"})\n",
    "player_age_df"
   ]
  },
  {
   "cell_type": "code",
   "execution_count": null,
   "metadata": {},
   "outputs": [],
   "source": [
    "bins = [0, 9, 14, 19, 24, 29, 34, 39, 100]\n",
    "age_groups = [\" <10\", \"10-14\", \"15-19\", \"20-24\", \"25-29\", \"30-34\", \"35-39\", \"40+\"]\n",
    "\n",
    "player_age_df[\"Age Category\"] = pd.DataFrame(pd.cut(player_age_df[\"Age\"], bins, labels= age_groups, include_lowest=True))\n",
    "player_age_df"
   ]
  },
  {
   "cell_type": "code",
   "execution_count": null,
   "metadata": {},
   "outputs": [],
   "source": [
    "player_age_group = player_age_df.groupby([\"Age Category\"])\n",
    "player_age_group"
   ]
  },
  {
   "cell_type": "code",
   "execution_count": null,
   "metadata": {},
   "outputs": [],
   "source": [
    "player_age_group_df = pd.DataFrame(player_age_group[\"Total Count\"].sum())\n",
    "player_age_group_df"
   ]
  },
  {
   "cell_type": "code",
   "execution_count": null,
   "metadata": {},
   "outputs": [],
   "source": [
    "number_of_players = len(purchase_data_df[\"SN\"].unique())\n",
    "number_of_players"
   ]
  },
  {
   "cell_type": "code",
   "execution_count": null,
   "metadata": {},
   "outputs": [],
   "source": [
    "player_age_group_df[\"Percentage of Players\"] = ((player_age_group_df[\"Total Count\"] / number_of_players) * 100).map(\"{:.2f}%\".format)\n",
    "player_age_group_df"
   ]
  },
  {
   "cell_type": "markdown",
   "metadata": {},
   "source": [
    "Purchasing Analysis (Age)"
   ]
  },
  {
   "cell_type": "code",
   "execution_count": null,
   "metadata": {},
   "outputs": [],
   "source": [
    "purchasing_analysis_age_df = purchase_data_df[[\"Age\", \"SN\", \"Price\"]]\n",
    "purchasing_analysis_age_df"
   ]
  },
  {
   "cell_type": "code",
   "execution_count": null,
   "metadata": {},
   "outputs": [],
   "source": [
    "purchase_count_df = pd.DataFrame(purchasing_analysis_age_df[\"Age\"].value_counts())\n",
    "purchase_count_df"
   ]
  },
  {
   "cell_type": "code",
   "execution_count": null,
   "metadata": {},
   "outputs": [],
   "source": [
    "purchase_count_df = purchase_count_df.reset_index(drop=False)\n",
    "purchase_count_df"
   ]
  },
  {
   "cell_type": "code",
   "execution_count": null,
   "metadata": {},
   "outputs": [],
   "source": [
    "purchase_count_df = purchase_count_df.rename(columns={\"Age\":\"Purchase Count\", \"index\":\"Age\"})\n",
    "purchase_count_df"
   ]
  },
  {
   "cell_type": "code",
   "execution_count": null,
   "metadata": {},
   "outputs": [],
   "source": [
    "purchase_count_df[\"Age Category\"] = pd.DataFrame(pd.cut(purchase_count_df[\"Age\"], bins, labels= age_groups, include_lowest=True))\n",
    "purchase_count_df"
   ]
  },
  {
   "cell_type": "code",
   "execution_count": null,
   "metadata": {},
   "outputs": [],
   "source": [
    "purchase_count_group = purchase_count_df.groupby([\"Age Category\"])\n",
    "purchase_count_group_df = pd.DataFrame(purchase_count_group[\"Purchase Count\"].sum())\n",
    "purchase_count_group_df   "
   ]
  },
  {
   "cell_type": "code",
   "execution_count": null,
   "metadata": {},
   "outputs": [],
   "source": [
    "average_purchase_price_df = purchasing_analysis_age_df[[\"Age\", \"Price\"]]\n",
    "average_purchase_price_df"
   ]
  },
  {
   "cell_type": "code",
   "execution_count": null,
   "metadata": {},
   "outputs": [],
   "source": [
    "average_purchase_price_df[\"Age Category\"] = pd.DataFrame(pd.cut(average_purchase_price_df[\"Age\"], bins, labels= age_groups, include_lowest=True))\n",
    "average_purchase_price_df"
   ]
  },
  {
   "cell_type": "code",
   "execution_count": null,
   "metadata": {},
   "outputs": [],
   "source": [
    "average_purchase_price_group = average_purchase_price_df.groupby([\"Age Category\"])\n",
    "average_purchase_price_group_df = pd.DataFrame(average_purchase_price_group[\"Price\"].mean())\n",
    "average_purchase_price_group_df"
   ]
  },
  {
   "cell_type": "code",
   "execution_count": null,
   "metadata": {},
   "outputs": [],
   "source": [
    "purchasing_analysis_age_df"
   ]
  },
  {
   "cell_type": "code",
   "execution_count": null,
   "metadata": {},
   "outputs": [],
   "source": [
    "total_purhcase_value_group = purchasing_analysis_age_df.groupby([\"Age\"])\n",
    "total_purchase_value_group_df = pd.DataFrame(total_purhcase_value_group[\"Price\"].sum())\n",
    "total_purchase_value_group_df"
   ]
  },
  {
   "cell_type": "code",
   "execution_count": null,
   "metadata": {},
   "outputs": [],
   "source": [
    "total_purchase_value_group_df = total_purchase_value_group_df.reset_index(drop=False)\n",
    "total_purchase_value_group_df"
   ]
  },
  {
   "cell_type": "code",
   "execution_count": null,
   "metadata": {},
   "outputs": [],
   "source": [
    "total_purchase_value_group_df[\"Age Category\"] = pd.DataFrame(pd.cut(total_purchase_value_group_df[\"Age\"], bins, labels= age_groups, include_lowest=True))\n",
    "total_purchase_value_group_df"
   ]
  },
  {
   "cell_type": "code",
   "execution_count": null,
   "metadata": {},
   "outputs": [],
   "source": [
    "total_purchase_value_group2 = total_purchase_value_group_df.groupby([\"Age Category\"])\n",
    "total_purchase_value_group2_df = pd.DataFrame(total_purchase_value_group2[\"Price\"].sum())\n",
    "total_purchase_value_group2_df"
   ]
  },
  {
   "cell_type": "code",
   "execution_count": null,
   "metadata": {},
   "outputs": [],
   "source": [
    "average_purchase_total_per_person_group = purchasing_analysis_age_df.groupby([\"SN\"])\n",
    "average_purchase_total_per_person_group_df = pd.DataFrame(average_purchase_total_per_person_group[\"Price\"].sum())\n",
    "average_purchase_total_per_person_group_df"
   ]
  },
  {
   "cell_type": "code",
   "execution_count": null,
   "metadata": {},
   "outputs": [],
   "source": [
    "average_purchase_total_per_person_group_df = average_purchase_total_per_person_group_df.reset_index(drop=False)\n",
    "average_purchase_total_per_person_group_df"
   ]
  },
  {
   "cell_type": "code",
   "execution_count": null,
   "metadata": {},
   "outputs": [],
   "source": [
    "player_age_df = purchase_data_df[[\"SN\", \"Age\"]]\n",
    "player_age_df"
   ]
  },
  {
   "cell_type": "code",
   "execution_count": null,
   "metadata": {},
   "outputs": [],
   "source": [
    "player_age_df = player_age_df.drop_duplicates(keep='last')\n",
    "player_age_df"
   ]
  },
  {
   "cell_type": "code",
   "execution_count": null,
   "metadata": {},
   "outputs": [],
   "source": [
    "merged_df = pd.merge(average_purchase_total_per_person_group_df, player_age_df, on = \"SN\")\n",
    "merged_df"
   ]
  },
  {
   "cell_type": "code",
   "execution_count": null,
   "metadata": {},
   "outputs": [],
   "source": [
    "merged_df[\"Age Category\"] = pd.DataFrame(pd.cut(merged_df[\"Age\"], bins, labels= age_groups, include_lowest=True))\n",
    "merged_df"
   ]
  },
  {
   "cell_type": "code",
   "execution_count": null,
   "metadata": {},
   "outputs": [],
   "source": [
    "merged_group = merged_df.groupby([\"Age Category\"])\n",
    "merged_group_df = pd.DataFrame(merged_group[\"Price\"].mean())\n",
    "merged_group_df"
   ]
  },
  {
   "cell_type": "code",
   "execution_count": null,
   "metadata": {},
   "outputs": [],
   "source": [
    "purchase_analysis_merge1 = pd.merge(purchase_count_group_df, average_purchase_price_group_df, on = \"Age Category\")\n",
    "purchase_analysis_merge1 "
   ]
  },
  {
   "cell_type": "code",
   "execution_count": null,
   "metadata": {},
   "outputs": [],
   "source": [
    "purchase_analysis_merge2 = pd.merge(total_purchase_value_group2_df, merged_group_df, on = \"Age Category\")\n",
    "purchase_analysis_merge2 "
   ]
  },
  {
   "cell_type": "code",
   "execution_count": null,
   "metadata": {},
   "outputs": [],
   "source": [
    "final_merge = pd.merge(purchase_analysis_merge1, purchase_analysis_merge2, on = \"Age Category\" )  \n",
    "final_merge"
   ]
  },
  {
   "cell_type": "code",
   "execution_count": null,
   "metadata": {},
   "outputs": [],
   "source": [
    "final_merge = final_merge.rename(columns = {\"Price_x\" : \"Total Purchase Value\", \"Price_y\": \"Average Total Purchase per Person\", \"Price\": \"Average Purchase Price\"})\n",
    "final_merge"
   ]
  },
  {
   "cell_type": "code",
   "execution_count": null,
   "metadata": {},
   "outputs": [],
   "source": [
    "final_merge[\"Average Purchase Price\"] = final_merge[\"Average Purchase Price\"].map(\"${:,.2f}\".format)\n",
    "final_merge[\"Total Purchase Value\"] = final_merge[\"Total Purchase Value\"].map(\"${:,.2f}\".format)\n",
    "final_merge[\"Average Total Purchase per Person\"] = final_merge[\"Average Total Purchase per Person\"].map(\"${:,.2f}\".format)\n",
    "final_merge"
   ]
  },
  {
   "cell_type": "markdown",
   "metadata": {},
   "source": [
    "Top Spenders"
   ]
  },
  {
   "cell_type": "code",
   "execution_count": null,
   "metadata": {},
   "outputs": [],
   "source": [
    "top_spenders_df = purchase_data_df[[\"SN\", \"Price\"]]\n",
    "top_spenders_df"
   ]
  },
  {
   "cell_type": "code",
   "execution_count": null,
   "metadata": {},
   "outputs": [],
   "source": [
    "top_spender_players_group = top_spenders_df.groupby([\"SN\"])\n",
    "top_spender_players_group_total_df = pd.DataFrame(top_spender_players_group[\"Price\"].sum() )\n",
    "top_spender_players_group_total_df"
   ]
  },
  {
   "cell_type": "code",
   "execution_count": null,
   "metadata": {},
   "outputs": [],
   "source": [
    "top_spender_players_group_avg_df = pd.DataFrame(top_spender_players_group[\"Price\"].mean() )\n",
    "top_spender_players_group_avg_df"
   ]
  },
  {
   "cell_type": "code",
   "execution_count": null,
   "metadata": {},
   "outputs": [],
   "source": [
    "top_spender_players_group_count_df = pd.DataFrame(top_spender_players_group[\"Price\"].count())\n",
    "top_spender_players_group_count_df"
   ]
  },
  {
   "cell_type": "code",
   "execution_count": null,
   "metadata": {},
   "outputs": [],
   "source": [
    "spender_merge1 = pd.merge(top_spender_players_group_count_df, top_spender_players_group_avg_df, on = \"SN\")\n",
    "spender_merge1"
   ]
  },
  {
   "cell_type": "code",
   "execution_count": null,
   "metadata": {},
   "outputs": [],
   "source": [
    "spender_merge2 = pd.merge(spender_merge1, top_spender_players_group_total_df, on = \"SN\" )\n",
    "spender_merge2"
   ]
  },
  {
   "cell_type": "code",
   "execution_count": null,
   "metadata": {},
   "outputs": [],
   "source": [
    "spender_merge2 = spender_merge2.sort_values(\"Price\" ,ascending=False)\n",
    "spender_merge2"
   ]
  },
  {
   "cell_type": "code",
   "execution_count": null,
   "metadata": {},
   "outputs": [],
   "source": [
    "spenders_summary_df = spender_merge2.head()\n",
    "spenders_summary_df"
   ]
  },
  {
   "cell_type": "code",
   "execution_count": null,
   "metadata": {},
   "outputs": [],
   "source": [
    "spenders_summary_df = spenders_summary_df.rename(columns ={\"Price_x\" : \"Purchase Count\", \"Price_y\": \"Average Purchase Price\", \"Price\": \"Total Purchase Value\"})\n",
    "spenders_summary_df"
   ]
  },
  {
   "cell_type": "code",
   "execution_count": null,
   "metadata": {},
   "outputs": [],
   "source": [
    "spenders_summary_df[\"Average Purchase Price\"] = spenders_summary_df[\"Average Purchase Price\"].map(\"${:,.2f}\".format)\n",
    "spenders_summary_df[\"Total Purchase Value\"] = spenders_summary_df[\"Total Purchase Value\"].map(\"${:,.2f}\".format)\n",
    "spenders_summary_df"
   ]
  },
  {
   "cell_type": "markdown",
   "metadata": {},
   "source": [
    "Most Popular Items"
   ]
  },
  {
   "cell_type": "code",
   "execution_count": null,
   "metadata": {},
   "outputs": [],
   "source": [
    "purchase_data_df.dtypes"
   ]
  },
  {
   "cell_type": "code",
   "execution_count": null,
   "metadata": {},
   "outputs": [],
   "source": [
    "most_popular_df = purchase_data_df[[\"Item ID\", \"Item Name\", \"Price\"]]\n",
    "most_popular_df"
   ]
  },
  {
   "cell_type": "code",
   "execution_count": null,
   "metadata": {},
   "outputs": [],
   "source": [
    "most_popular_group = most_popular_df.groupby([\"Item Name\"])\n",
    "most_popular_group_df = pd.DataFrame(most_popular_group[\"Item Name\"].count())\n",
    "most_popular_group_df"
   ]
  },
  {
   "cell_type": "code",
   "execution_count": null,
   "metadata": {},
   "outputs": [],
   "source": [
    "most_popular_group_df = most_popular_group_df.rename(columns= {\"Item Name\": \"Purchase Count\"})\n",
    "most_popular_group_df"
   ]
  },
  {
   "cell_type": "code",
   "execution_count": null,
   "metadata": {},
   "outputs": [],
   "source": [
    "most_popular_price_df = most_popular_df[[\"Item ID\",\"Price\"]]\n",
    "most_popular_price_df"
   ]
  },
  {
   "cell_type": "code",
   "execution_count": null,
   "metadata": {},
   "outputs": [],
   "source": [
    "most_popular_price_df = most_popular_price_df.drop_duplicates(keep='last')\n",
    "most_popular_price_df"
   ]
  },
  {
   "cell_type": "code",
   "execution_count": null,
   "metadata": {},
   "outputs": [],
   "source": [
    "most_popular_total_value = most_popular_df[[\"Item ID\",\"Price\"]]\n",
    "most_popular_total_value"
   ]
  },
  {
   "cell_type": "code",
   "execution_count": null,
   "metadata": {},
   "outputs": [],
   "source": [
    "most_popular_total_value_group = most_popular_total_value.groupby(\"Item ID\")\n",
    "most_popular_total_value_group_df = pd.DataFrame(most_popular_total_value_group[\"Price\"].sum())\n",
    "most_popular_total_value_group_df"
   ]
  },
  {
   "cell_type": "code",
   "execution_count": null,
   "metadata": {},
   "outputs": [],
   "source": [
    "item_names_df = most_popular_df[[\"Item ID\", \"Item Name\"]].drop_duplicates(keep='last')\n",
    "item_names_df"
   ]
  },
  {
   "cell_type": "code",
   "execution_count": null,
   "metadata": {},
   "outputs": [],
   "source": [
    " most_popular_price_df.loc[most_popular_price_df[\"Item ID\"]==92]"
   ]
  },
  {
   "cell_type": "code",
   "execution_count": null,
   "metadata": {},
   "outputs": [],
   "source": [
    "average_duplicate_items_group = most_popular_price_df.groupby([\"Item ID\"])\n",
    "average_duplicate_items_group_df = pd.DataFrame(average_duplicate_items_group[\"Price\"].mean())\n",
    "average_duplicate_items_group_df"
   ]
  },
  {
   "cell_type": "code",
   "execution_count": null,
   "metadata": {},
   "outputs": [],
   "source": [
    "most_popular_summary_merge1 = pd.merge(most_popular_group_df, item_names_df, on = \"Item Name\")\n",
    "most_popular_summary_merge1"
   ]
  },
  {
   "cell_type": "code",
   "execution_count": null,
   "metadata": {},
   "outputs": [],
   "source": [
    "most_popular_summary_merge2 = pd.merge(average_duplicate_items_group_df, most_popular_total_value_group_df, on = \"Item ID\")\n",
    "most_popular_summary_merge2"
   ]
  },
  {
   "cell_type": "code",
   "execution_count": null,
   "metadata": {},
   "outputs": [],
   "source": [
    "most_popular_summary_merge3 = pd.merge(most_popular_summary_merge1, most_popular_summary_merge2, on = \"Item ID\")\n",
    "most_popular_summary_merge3"
   ]
  },
  {
   "cell_type": "code",
   "execution_count": null,
   "metadata": {},
   "outputs": [],
   "source": [
    "most_popular_summary_merge3 = most_popular_summary_merge3.set_index(\"Item ID\",\"Item Name\")\n",
    "most_popular_summary_merge3"
   ]
  },
  {
   "cell_type": "code",
   "execution_count": null,
   "metadata": {},
   "outputs": [],
   "source": [
    "most_popular_summary_merge3 = most_popular_summary_merge3.rename(columns= {\"Price_x\": \"Item Price\", \"Price_y\":\"Total Purchase Value\"})\n",
    "most_popular_summary_merge3"
   ]
  },
  {
   "cell_type": "code",
   "execution_count": null,
   "metadata": {},
   "outputs": [],
   "source": [
    "most_popular_summary_merge3 = most_popular_summary_merge3.sort_values(\"Purchase Count\" ,ascending=False)\n",
    "most_popular_summary_merge3"
   ]
  },
  {
   "cell_type": "code",
   "execution_count": null,
   "metadata": {},
   "outputs": [],
   "source": [
    "most_popular_summary_head = most_popular_summary_merge3.head()\n",
    "most_popular_summary_head"
   ]
  },
  {
   "cell_type": "code",
   "execution_count": null,
   "metadata": {},
   "outputs": [],
   "source": [
    "most_popular_summary_head[\"Item Price\"] = most_popular_summary_head[\"Item Price\"].map(\"${:,.2f}\".format)\n",
    "most_popular_summary_head"
   ]
  },
  {
   "cell_type": "code",
   "execution_count": null,
   "metadata": {},
   "outputs": [],
   "source": [
    "most_popular_summary_head[\"Total Purchase Value\"] = most_popular_summary_head[\"Total Purchase Value\"].map(\"${:,.2f}\".format)\n",
    "most_popular_summary_head"
   ]
  },
  {
   "cell_type": "markdown",
   "metadata": {},
   "source": [
    "Most Profitabl Items"
   ]
  },
  {
   "cell_type": "code",
   "execution_count": null,
   "metadata": {},
   "outputs": [],
   "source": [
    "most_popular_summary_most_profitable = most_popular_summary_merge3.sort_values(\"Total Purchase Value\" ,ascending=False)\n",
    "most_popular_summary_most_profitable"
   ]
  },
  {
   "cell_type": "code",
   "execution_count": null,
   "metadata": {},
   "outputs": [],
   "source": [
    "most_popular_summary_most_profitable_head = most_popular_summary_most_profitable.head()\n",
    "most_popular_summary_most_profitable_head "
   ]
  },
  {
   "cell_type": "code",
   "execution_count": null,
   "metadata": {},
   "outputs": [],
   "source": [
    "most_popular_summary_most_profitable_head[\"Item Price\"] = most_popular_summary_most_profitable_head[\"Item Price\"].map(\"${:,.2f}\".format)\n",
    "most_popular_summary_most_profitable_head"
   ]
  },
  {
   "cell_type": "code",
   "execution_count": null,
   "metadata": {},
   "outputs": [],
   "source": [
    "most_popular_summary_most_profitable_head[\"Total Purchase Value\"] = most_popular_summary_most_profitable_head[\"Total Purchase Value\"].map(\"${:,.2f}\".format)"
   ]
  },
  {
   "cell_type": "code",
   "execution_count": null,
   "metadata": {},
   "outputs": [],
   "source": [
    "most_popular_summary_most_profitable_head"
   ]
  }
 ],
 "metadata": {
  "kernelspec": {
   "display_name": "Python 3",
   "language": "python",
   "name": "python3"
  },
  "language_info": {
   "codemirror_mode": {
    "name": "ipython",
    "version": 3
   },
   "file_extension": ".py",
   "mimetype": "text/x-python",
   "name": "python",
   "nbconvert_exporter": "python",
   "pygments_lexer": "ipython3",
   "version": "3.6.10"
  }
 },
 "nbformat": 4,
 "nbformat_minor": 4
}
