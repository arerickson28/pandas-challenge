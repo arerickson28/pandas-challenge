{
 "cells": [
  {
   "cell_type": "markdown",
   "metadata": {},
   "source": [
    "# Heros of Pymoli Code"
   ]
  },
  {
   "cell_type": "code",
   "execution_count": null,
   "metadata": {},
   "outputs": [],
   "source": [
    "#Import Dependencies\n",
    "import pandas as pd\n",
    "import csv\n",
    "import numpy as np\n",
    "\n",
    "#Load Data from CSV\n",
    "file_to_load = \"Resources/purchase_data.csv\"\n",
    "\n",
    "purchase_data_df = pd.read_csv(file_to_load)"
   ]
  },
  {
   "cell_type": "code",
   "execution_count": null,
   "metadata": {
    "scrolled": true
   },
   "outputs": [],
   "source": [
    "purchase_data_df.head(6)"
   ]
  },
  {
   "cell_type": "markdown",
   "metadata": {},
   "source": [
    "## Player Count"
   ]
  },
  {
   "cell_type": "code",
   "execution_count": null,
   "metadata": {},
   "outputs": [],
   "source": [
    "#Selecting Desired Columns For Source Dataframe (omitting repeat screen names)\n",
    "number_of_players = purchase_data_df[\"SN\"].nunique()\n",
    "\n",
    "#Creating Dataframe\n",
    "number_of_players_df = pd.DataFrame({\"Total Players\": [number_of_players]})\n",
    "number_of_players_df"
   ]
  },
  {
   "cell_type": "markdown",
   "metadata": {},
   "source": [
    "### Purchasing Analysis (Total)"
   ]
  },
  {
   "cell_type": "code",
   "execution_count": null,
   "metadata": {},
   "outputs": [],
   "source": [
    "#Selecting Desired Columns For Source Dataframe (ommitting repeat items)\n",
    "number_of_items = len(purchase_data_df[\"Item Name\"].unique())\n",
    "\n",
    "#Selecting Column from Source Dataframe and computing mean price\n",
    "average_item_price = purchase_data_df[\"Price\"].mean()\n",
    " \n",
    "#Finding number of total purchases\n",
    "number_of_purchases = len(purchase_data_df)\n",
    "\n",
    "#Finding sum of total purchases\n",
    "total_revenue = purchase_data_df[\"Price\"].sum()\n",
    "\n",
    "#Creating Dataframe\n",
    "purchase_summary_df = pd.DataFrame({\"Number of Unique Items\": [number_of_items],\n",
    "                                   \"Average Price\": [\"${0:,.2f}\".format(average_item_price)],\n",
    "                                   \"Number of Purchases\":[number_of_purchases],\n",
    "                                   \"Total Revenue\": [\"${0:,.2f}\".format(total_revenue)]})\n",
    "purchase_summary_df"
   ]
  },
  {
   "cell_type": "markdown",
   "metadata": {},
   "source": [
    "## Gender Demographics"
   ]
  },
  {
   "cell_type": "code",
   "execution_count": null,
   "metadata": {},
   "outputs": [],
   "source": [
    "#Selecting Desired Columns For Source Dataframe \n",
    "gender_df = purchase_data_df[[\"SN\",\"Gender\"]]\n",
    "\n",
    "#Removing Repeat Players\n",
    "unique_gender_df = gender_df.drop_duplicates()\n",
    "\n",
    "#Counting Males and Females\n",
    "players_gender_df = pd.DataFrame(unique_gender_df[\"Gender\"].value_counts())\n",
    "\n",
    "#Calculating Percentage of Males and Females Out of Total Players\n",
    "players_gender_df[\"Percentage of Players\"] = (players_gender_df[\"Gender\"]/unique_gender_df[\"Gender\"].count()*100)\n",
    "\n",
    "#Rename Column\n",
    "players_gender_df = players_gender_df.rename(columns={\"Gender\":\"Total Count\"})\n",
    "\n",
    "#Formatting\n",
    "players_gender_df[\"Percentage of Players\"] = players_gender_df[\"Percentage of Players\"].map(\"{:.2f}%\".format)\n",
    "players_gender_df"
   ]
  },
  {
   "cell_type": "markdown",
   "metadata": {},
   "source": [
    "## Purchasing Analysis (Gender)"
   ]
  },
  {
   "cell_type": "code",
   "execution_count": null,
   "metadata": {},
   "outputs": [],
   "source": [
    "#Selecting Desired Columns For Source Dataframe\n",
    "gender_purchases_df = purchase_data_df[[\"SN\",\"Gender\",\"Price\"]]\n",
    "\n",
    "#Creating New Dataframes\n",
    "total_purchase_gender = gender_purchases_df.groupby(\"Gender\")\n",
    "\n",
    "total_purchase_gender_df = pd.DataFrame(total_purchase_gender[\"Price\"].sum())\n",
    "\n",
    "total_purchase_count_gender_df = pd.DataFrame(total_purchase_gender[\"Price\"].count())\n",
    "\n",
    "average_purchase_price_gender_df = pd.DataFrame(total_purchase_gender[\"Price\"].mean())\n",
    "\n",
    "#Creating New Dataframe\n",
    "player_purchase = gender_purchases_df.groupby(\"SN\")\n",
    "total_purchase_per_player_df = pd.DataFrame(player_purchase[\"Price\"].sum())\n",
    "\n",
    "#Merging Dataframe\n",
    "total_purchase_per_player_df = pd.merge(total_purchase_per_player_df,unique_gender_df, on=\"SN\")\n",
    "\n",
    "total_purchase_per_player_df = total_purchase_per_player_df.drop(columns=\"SN\")\n",
    "\n",
    "#Resetting Index\n",
    "total_purchase_per_player_df = total_purchase_per_player_df.reset_index(drop=False)\n",
    "\n",
    "#Creating New Dataframe\n",
    "average_total_per_gender = total_purchase_per_player_df.groupby(\"Gender\")\n",
    "average_total_per_gender_df = pd.DataFrame(average_total_per_gender[\"Price\"].mean())\n",
    "\n",
    "#Renaming Column\n",
    "average_total_per_gender_df = average_total_per_gender_df.rename(columns={\"Price\":\"Avg Total Purchase per Person\"})\n",
    "\n",
    "#Resetting Indicies\n",
    "average_total_per_gender_df = average_total_per_gender_df.reset_index(drop=False)\n",
    "total_purchase_count_gender_df = total_purchase_count_gender_df.reset_index(drop=False)\n",
    "average_purchase_price_gender_df = average_purchase_price_gender_df.reset_index(drop=False)\n",
    "\n",
    "#Merging Dataframes with Gender\n",
    "purchasing_analysis_df1 = pd.merge(total_purchase_count_gender_df, average_purchase_price_gender_df, on=\"Gender\")\n",
    "purchasing_analysis_df2 = pd.merge(total_purchase_gender_df, average_total_per_gender_df, on=\"Gender\" )\n",
    "purchasing_analysis_3 = pd.merge(purchasing_analysis_df1, purchasing_analysis_df2, on=\"Gender\")\n",
    "\n",
    "#Renaming Columns\n",
    "purchasing_analysis_3 = purchasing_analysis_3.rename(columns={\"Price_x\":\"Purchase Count\", \n",
    "                                                             \"Price_y\": \"Average Purchase Price\",\n",
    "                                                             \"Price\": \"Total Purchase Value\"})\n",
    "#Formatting Output for decimals and dollar signs\n",
    "purchasing_analysis_3[\"Average Purchase Price\"] = purchasing_analysis_3[\"Average Purchase Price\"].map(\"${0:,.2f}\".format)\n",
    "purchasing_analysis_3[\"Total Purchase Value\"] = purchasing_analysis_3[\"Total Purchase Value\"].map(\"${0:,.2f}\".format)\n",
    "purchasing_analysis_3[\"Avg Total Purchase per Person\"] = purchasing_analysis_3[\"Avg Total Purchase per Person\"].map(\"${0:,.2f}\".format)\n",
    "purchasing_analysis_3"
   ]
  },
  {
   "cell_type": "markdown",
   "metadata": {},
   "source": [
    "## Age Demographics"
   ]
  },
  {
   "cell_type": "code",
   "execution_count": null,
   "metadata": {},
   "outputs": [],
   "source": [
    "#Selecting Desired Columns For Source Dataframe\n",
    "age_demo_df = purchase_data_df[[\"Age\", \"SN\"]].drop_duplicates(keep='last')\n",
    "\n",
    "#Counting Ages\n",
    "player_age_df = pd.DataFrame(age_demo_df[\"Age\"].value_counts())\n",
    "\n",
    "#Reset Index and Rename Columns\n",
    "player_age_df = player_age_df.reset_index(drop=False)\n",
    "player_age_df = player_age_df.rename(columns={\"index\": \"Age\", \"Age\" : \"Total Count\"})\n",
    "\n",
    "#Create Bins\n",
    "bins = [0, 9, 14, 19, 24, 29, 34, 39, 100]\n",
    "age_groups = [\" <10\", \"10-14\", \"15-19\", \"20-24\", \"25-29\", \"30-34\", \"35-39\", \"40+\"]\n",
    "\n",
    "\n",
    "player_age_df[\"Age Category\"] = pd.DataFrame(pd.cut(player_age_df[\"Age\"], bins, labels= age_groups, include_lowest=True))\n",
    "\n",
    "#Creating Dataframe\n",
    "player_age_group = player_age_df.groupby([\"Age Category\"])\n",
    "player_age_group_df = pd.DataFrame(player_age_group[\"Total Count\"].sum())\n",
    "\n",
    "number_of_players = len(purchase_data_df[\"SN\"].unique())\n",
    "\n",
    "#Calculating Percentage of Players In Each Age Bin (and formatting)\n",
    "player_age_group_df[\"Percentage of Players\"] = ((player_age_group_df[\"Total Count\"] / number_of_players) * 100).map(\"{:.2f}%\".format)\n",
    "player_age_group_df"
   ]
  },
  {
   "cell_type": "markdown",
   "metadata": {},
   "source": [
    "## Purchasing Analysis (Age)"
   ]
  },
  {
   "cell_type": "code",
   "execution_count": null,
   "metadata": {},
   "outputs": [],
   "source": [
    "#Selecting Desired Columns from Source Dataframe\n",
    "purchasing_analysis_age_df = purchase_data_df[[\"Age\", \"SN\", \"Price\"]]\n",
    "\n",
    "#Creating Dataframe and Counting Ages\n",
    "purchase_count_df = pd.DataFrame(purchasing_analysis_age_df[\"Age\"].value_counts())\n",
    "\n",
    "#Adjusting Dataframe Index\n",
    "purchase_count_df = purchase_count_df.reset_index(drop=False)\n",
    "\n",
    "#Renameing Columns\n",
    "purchase_count_df = purchase_count_df.rename(columns={\"Age\":\"Purchase Count\", \"index\":\"Age\"})\n",
    "\n",
    "purchase_count_df[\"Age Category\"] = pd.DataFrame(pd.cut(purchase_count_df[\"Age\"], bins, labels= age_groups, include_lowest=True))\n",
    "\n",
    "#Creating Dataframe\n",
    "purchase_count_group = purchase_count_df.groupby([\"Age Category\"])\n",
    "purchase_count_group_df = pd.DataFrame(purchase_count_group[\"Purchase Count\"].sum())\n",
    "\n",
    "average_purchase_price_df = purchasing_analysis_age_df[[\"Age\", \"Price\"]]\n",
    "\n",
    "average_purchase_price_df[\"Age Category\"] = pd.DataFrame(pd.cut(average_purchase_price_df[\"Age\"], bins, labels= age_groups, include_lowest=True))\n",
    "\n",
    "#Creating Dataframe and Calculating Mean Price per Age Category\n",
    "average_purchase_price_group = average_purchase_price_df.groupby([\"Age Category\"])\n",
    "average_purchase_price_group_df = pd.DataFrame(average_purchase_price_group[\"Price\"].mean())\n",
    "\n",
    "#Creating Dataframe and Calculating Total Purchase Value\n",
    "total_purhcase_value_group = purchasing_analysis_age_df.groupby([\"Age\"])\n",
    "total_purchase_value_group_df = pd.DataFrame(total_purhcase_value_group[\"Price\"].sum())\n",
    "\n",
    "#Adjusting Index\n",
    "total_purchase_value_group_df = total_purchase_value_group_df.reset_index(drop=False)\n",
    "\n",
    "total_purchase_value_group_df[\"Age Category\"] = pd.DataFrame(pd.cut(total_purchase_value_group_df[\"Age\"], bins, labels= age_groups, include_lowest=True))\n",
    "\n",
    "#Creating Dataframe\n",
    "total_purchase_value_group2 = total_purchase_value_group_df.groupby([\"Age Category\"])\n",
    "total_purchase_value_group2_df = pd.DataFrame(total_purchase_value_group2[\"Price\"].sum())\n",
    "\n",
    "#Creating Dataframe\n",
    "average_purchase_total_per_person_group = purchasing_analysis_age_df.groupby([\"SN\"])\n",
    "average_purchase_total_per_person_group_df = pd.DataFrame(average_purchase_total_per_person_group[\"Price\"].sum())\n",
    "\n",
    "average_purchase_total_per_person_group_df = average_purchase_total_per_person_group_df.reset_index(drop=False)\n",
    "\n",
    "##Selecting Desired Columns from Source Dataframe for new Dataframe\n",
    "player_age_df = purchase_data_df[[\"SN\", \"Age\"]]\n",
    "\n",
    "#To Avoid Counting Repeat Screen Names\n",
    "player_age_df = player_age_df.drop_duplicates(keep='last')\n",
    "\n",
    "#Merge Dataframes by Screen Name\n",
    "merged_df = pd.merge(average_purchase_total_per_person_group_df, player_age_df, on = \"SN\")\n",
    "\n",
    "merged_df[\"Age Category\"] = pd.DataFrame(pd.cut(merged_df[\"Age\"], bins, labels= age_groups, include_lowest=True))\n",
    "\n",
    "#Creating New Dataframe\n",
    "merged_group = merged_df.groupby([\"Age Category\"])\n",
    "merged_group_df = pd.DataFrame(merged_group[\"Price\"].mean())\n",
    "\n",
    "#Merging Dataframes for Final Desired Dataframe\n",
    "purchase_analysis_merge1 = pd.merge(purchase_count_group_df, average_purchase_price_group_df, on = \"Age Category\")\n",
    "\n",
    "purchase_analysis_merge2 = pd.merge(total_purchase_value_group2_df, merged_group_df, on = \"Age Category\")\n",
    "\n",
    "final_merge = pd.merge(purchase_analysis_merge1, purchase_analysis_merge2, on = \"Age Category\" ) \n",
    "\n",
    "final_merge = final_merge.rename(columns = {\"Price_x\" : \"Total Purchase Value\", \"Price_y\": \"Average Total Purchase per Person\", \"Price\": \"Average Purchase Price\"})\n",
    "\n",
    "#Formating Final Dataframe\n",
    "final_merge[\"Average Purchase Price\"] = final_merge[\"Average Purchase Price\"].map(\"${:,.2f}\".format)\n",
    "final_merge[\"Total Purchase Value\"] = final_merge[\"Total Purchase Value\"].map(\"${:,.2f}\".format)\n",
    "final_merge[\"Average Total Purchase per Person\"] = final_merge[\"Average Total Purchase per Person\"].map(\"${:,.2f}\".format)\n",
    "final_merge"
   ]
  },
  {
   "cell_type": "markdown",
   "metadata": {},
   "source": [
    "## Top Spenders"
   ]
  },
  {
   "cell_type": "code",
   "execution_count": null,
   "metadata": {},
   "outputs": [],
   "source": [
    "#Selecting Desired Columns From Source Dataframe\n",
    "top_spenders_df = purchase_data_df[[\"SN\", \"Price\"]]\n",
    "\n",
    "#Creating Dataframe and Calulating Sum\n",
    "top_spender_players_group = top_spenders_df.groupby([\"SN\"])\n",
    "top_spender_players_group_total_df = pd.DataFrame(top_spender_players_group[\"Price\"].sum() )\n",
    "\n",
    "#New Dataframe for Average\n",
    "top_spender_players_group_avg_df = pd.DataFrame(top_spender_players_group[\"Price\"].mean() )\n",
    "\n",
    "#New Dataframe\n",
    "top_spender_players_group_count_df = pd.DataFrame(top_spender_players_group[\"Price\"].count())\n",
    "\n",
    "#Merging Dataframes by Screen Name\n",
    "spender_merge1 = pd.merge(top_spender_players_group_count_df, top_spender_players_group_avg_df, on = \"SN\")\n",
    "\n",
    "#Merging by Screen Name Again\n",
    "spender_merge2 = pd.merge(spender_merge1, top_spender_players_group_total_df, on = \"SN\" )\n",
    "\n",
    "#Sorting from Greatest to Least\n",
    "spender_merge2 = spender_merge2.sort_values(\"Price\" ,ascending=False)\n",
    "\n",
    "#To Identify top 5 Spenders\n",
    "spenders_summary_df = spender_merge2.head()\n",
    "\n",
    "#Renameing Columns\n",
    "spenders_summary_df = spenders_summary_df.rename(columns ={\"Price_x\" : \"Purchase Count\", \"Price_y\": \"Average Purchase Price\", \"Price\": \"Total Purchase Value\"})\n",
    "\n",
    "#Formatting Final Dataframe\n",
    "spenders_summary_df[\"Average Purchase Price\"] = spenders_summary_df[\"Average Purchase Price\"].map(\"${:,.2f}\".format)\n",
    "spenders_summary_df[\"Total Purchase Value\"] = spenders_summary_df[\"Total Purchase Value\"].map(\"${:,.2f}\".format)\n",
    "spenders_summary_df"
   ]
  },
  {
   "cell_type": "markdown",
   "metadata": {},
   "source": [
    "## Most Popular Items"
   ]
  },
  {
   "cell_type": "code",
   "execution_count": null,
   "metadata": {},
   "outputs": [],
   "source": [
    "#Selecting Desired Columns From Source Dataframe\n",
    "most_popular_df = purchase_data_df[[\"Item ID\", \"Item Name\", \"Price\"]]\n",
    "\n",
    "#Creating New Dataframe\n",
    "most_popular_group = most_popular_df.groupby([\"Item Name\"])\n",
    "most_popular_group_df = pd.DataFrame(most_popular_group[\"Item Name\"].count())\n",
    "\n",
    "#Renaming Columns\n",
    "most_popular_group_df = most_popular_group_df.rename(columns= {\"Item Name\": \"Purchase Count\"})\n",
    "\n",
    "#Selecting Desired Columns From Previous Dataframe\n",
    "most_popular_price_df = most_popular_df[[\"Item ID\",\"Price\"]]\n",
    "\n",
    "#\n",
    "most_popular_price_df = most_popular_price_df.drop_duplicates(keep='last')\n",
    "\n",
    "#Selecting Desired Columns From Previous Dataframe\n",
    "most_popular_total_value = most_popular_df[[\"Item ID\",\"Price\"]]\n",
    "\n",
    "#Creating New Dataframe\n",
    "most_popular_total_value_group = most_popular_total_value.groupby(\"Item ID\")\n",
    "most_popular_total_value_group_df = pd.DataFrame(most_popular_total_value_group[\"Price\"].sum())\n",
    "\n",
    "#\n",
    "item_names_df = most_popular_df[[\"Item ID\", \"Item Name\"]].drop_duplicates(keep='last')\n",
    "\n",
    "#Special case\n",
    "most_popular_price_df.loc[most_popular_price_df[\"Item ID\"]==92]\n",
    "\n",
    "#Creating New Dataframe\n",
    "average_duplicate_items_group = most_popular_price_df.groupby([\"Item ID\"])\n",
    "average_duplicate_items_group_df = pd.DataFrame(average_duplicate_items_group[\"Price\"].mean())\n",
    "\n",
    "#Merging Dataframes by Item Name\n",
    "most_popular_summary_merge1 = pd.merge(most_popular_group_df, item_names_df, on = \"Item Name\")\n",
    "\n",
    "#Merging Dataframes by Item ID\n",
    "most_popular_summary_merge2 = pd.merge(average_duplicate_items_group_df, most_popular_total_value_group_df, on = \"Item ID\")\n",
    "\n",
    "#Another Merge by Item ID\n",
    "most_popular_summary_merge3 = pd.merge(most_popular_summary_merge1, most_popular_summary_merge2, on = \"Item ID\")\n",
    "\n",
    "#Reseting Index\n",
    "most_popular_summary_merge3 = most_popular_summary_merge3.set_index(\"Item ID\",\"Item Name\")\n",
    "\n",
    "#Renaming Columns\n",
    "most_popular_summary_merge3 = most_popular_summary_merge3.rename(columns= {\"Price_x\": \"Item Price\", \"Price_y\":\"Total Purchase Value\"})\n",
    "\n",
    "#Sorting From Greatest to Least\n",
    "most_popular_summary_merge3 = most_popular_summary_merge3.sort_values(\"Purchase Count\" ,ascending=False)\n",
    "\n",
    "#Selecting Top 5 Items\n",
    "most_popular_summary_head = most_popular_summary_merge3.head()\n",
    "\n",
    "#Formatting\n",
    "most_popular_summary_head[\"Item Price\"] = most_popular_summary_head[\"Item Price\"].map(\"${:,.2f}\".format)\n",
    "\n",
    "most_popular_summary_head[\"Total Purchase Value\"] = most_popular_summary_head[\"Total Purchase Value\"].map(\"${:,.2f}\".format)\n",
    "most_popular_summary_head"
   ]
  },
  {
   "cell_type": "markdown",
   "metadata": {},
   "source": [
    "## Most Profitable Items"
   ]
  },
  {
   "cell_type": "code",
   "execution_count": null,
   "metadata": {},
   "outputs": [],
   "source": [
    "#Sorting from Greatest to Least\n",
    "most_popular_summary_most_profitable = most_popular_summary_merge3.sort_values(\"Total Purchase Value\" ,ascending=False)\n",
    "\n",
    "#Selecting Top 5 Items\n",
    "most_popular_summary_most_profitable_head = most_popular_summary_most_profitable.head()\n",
    "\n",
    "#Formatting\n",
    "most_popular_summary_most_profitable_head[\"Item Price\"] = most_popular_summary_most_profitable_head[\"Item Price\"].map(\"${:,.2f}\".format)\n",
    "\n",
    "most_popular_summary_most_profitable_head[\"Total Purchase Value\"] = most_popular_summary_most_profitable_head[\"Total Purchase Value\"].map(\"${:,.2f}\".format)\n",
    "\n",
    "most_popular_summary_most_profitable_head"
   ]
  },
  {
   "cell_type": "code",
   "execution_count": null,
   "metadata": {},
   "outputs": [],
   "source": []
  }
 ],
 "metadata": {
  "kernelspec": {
   "display_name": "Python 3",
   "language": "python",
   "name": "python3"
  },
  "language_info": {
   "codemirror_mode": {
    "name": "ipython",
    "version": 3
   },
   "file_extension": ".py",
   "mimetype": "text/x-python",
   "name": "python",
   "nbconvert_exporter": "python",
   "pygments_lexer": "ipython3",
   "version": "3.6.10"
  }
 },
 "nbformat": 4,
 "nbformat_minor": 4
}
